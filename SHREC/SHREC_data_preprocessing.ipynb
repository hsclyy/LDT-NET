{
 "cells": [
  {
   "cell_type": "code",
   "execution_count": 101,
   "metadata": {
    "collapsed": true
   },
   "outputs": [],
   "source": [
    "import numpy as np\n",
    "from tqdm import tqdm\n",
    "import matplotlib.pyplot as plt\n",
    "from scipy.signal import medfilt\n",
    "import pickle\n"
   ]
  },
  {
   "cell_type": "code",
   "execution_count": 102,
   "metadata": {
    "collapsed": true
   },
   "outputs": [],
   "source": [
    "class Config():\n",
    "    def __init__(self):        \n",
    "        self.frame_l = 32 # the length of frames\n",
    "        self.joint_n = 22 # the number of joints\n",
    "        self.joint_d = 3 # the dimension of classes        \n",
    "        self.data_dir = '/mnt/nasbi/no-backups/datasets/pose_action/Hand_action/SHREC2017/'\n",
    "        self.save_dir = '/mnt/nasbi/homes/fan/projects/action/skeleton/data/SHREC/'\n",
    "\n",
    "C = Config()"
   ]
  },
  {
   "cell_type": "code",
   "execution_count": 103,
   "metadata": {
    "collapsed": true
   },
   "outputs": [],
   "source": [
    "train_list = np.loadtxt(C.data_dir +'train_gestures.txt').astype('int16')\n",
    "test_list = np.loadtxt(C.data_dir +'test_gestures.txt').astype('int16')"
   ]
  },
  {
   "cell_type": "code",
   "execution_count": 104,
   "metadata": {
    "scrolled": true
   },
   "outputs": [
    {
     "name": "stderr",
     "output_type": "stream",
     "text": [
      "100%|██████████| 1960/1960 [00:14<00:00, 131.37it/s]\n"
     ]
    }
   ],
   "source": [
    "Train = {}\n",
    "Train['pose'] = []\n",
    "Train['coarse_label'] = []\n",
    "Train['fine_label'] = []\n",
    "\n",
    "for i in tqdm(range(len(train_list))):\n",
    "    idx_gesture = train_list[i][0]\n",
    "    idx_finger = train_list[i][1]\n",
    "    idx_subject = train_list[i][2]\n",
    "    idx_essai = train_list[i][3]\n",
    "    coarse_label = train_list[i][4]\n",
    "    fine_label = train_list[i][5]\n",
    "    \n",
    "    skeleton_path = data_dir + '/gesture_' + str(idx_gesture) + '/finger_' \\\n",
    "                + str(idx_finger) + '/subject_' + str(idx_subject) + '/essai_' + str(idx_essai)+'/'\n",
    "        \n",
    "    p = np.loadtxt(skeleton_path+'skeletons_world.txt').astype('float32')\n",
    "    for j in range(p.shape[1]):\n",
    "        p[:,j] = medfilt(p[:,j])\n",
    "        \n",
    "    Train['pose'].append(p)\n",
    "    Train['coarse_label'].append(coarse_label)\n",
    "    Train['fine_label'].append(fine_label)\n",
    "    "
   ]
  },
  {
   "cell_type": "code",
   "execution_count": 105,
   "metadata": {
    "collapsed": true
   },
   "outputs": [],
   "source": [
    "pickle.dump(Train, open(C.save_dir+\"train.pkl\", \"wb\"))"
   ]
  },
  {
   "cell_type": "code",
   "execution_count": 106,
   "metadata": {},
   "outputs": [
    {
     "name": "stderr",
     "output_type": "stream",
     "text": [
      "100%|██████████| 840/840 [00:05<00:00, 156.90it/s]\n"
     ]
    }
   ],
   "source": [
    "Test = {}\n",
    "Test['pose'] = []\n",
    "Test['coarse_label'] = []\n",
    "Test['fine_label'] = []\n",
    "\n",
    "for i in tqdm(range(len(test_list))):\n",
    "    idx_gesture = test_list[i][0]\n",
    "    idx_finger = test_list[i][1]\n",
    "    idx_subject = test_list[i][2]\n",
    "    idx_essai = test_list[i][3]\n",
    "    coarse_label = test_list[i][4]\n",
    "    fine_label = test_list[i][5]\n",
    "    \n",
    "    skeleton_path = data_dir + '/gesture_' + str(idx_gesture) + '/finger_' \\\n",
    "                + str(idx_finger) + '/subject_' + str(idx_subject) + '/essai_' + str(idx_essai)+'/'\n",
    "        \n",
    "    p = np.loadtxt(skeleton_path+'skeletons_world.txt').astype('float32')\n",
    "    for j in range(p.shape[1]):\n",
    "        p[:,j] = medfilt(p[:,j])\n",
    "        \n",
    "    Test['pose'].append(p)\n",
    "    Test['coarse_label'].append(coarse_label)\n",
    "    Test['fine_label'].append(fine_label)\n",
    "    "
   ]
  },
  {
   "cell_type": "code",
   "execution_count": 107,
   "metadata": {
    "collapsed": true
   },
   "outputs": [],
   "source": [
    "pickle.dump(Test, open(C.save_dir+\"test.pkl\", \"wb\"))"
   ]
  },
  {
   "cell_type": "code",
   "execution_count": 108,
   "metadata": {
    "collapsed": true
   },
   "outputs": [],
   "source": [
    "Test = pickle.load(open(C.save_dir+\"test.pkl\", \"rb\"))"
   ]
  },
  {
   "cell_type": "code",
   "execution_count": null,
   "metadata": {
    "collapsed": true
   },
   "outputs": [],
   "source": []
  }
 ],
 "metadata": {
  "kernelspec": {
   "display_name": "Python 3",
   "language": "python",
   "name": "python3"
  },
  "language_info": {
   "codemirror_mode": {
    "name": "ipython",
    "version": 3
   },
   "file_extension": ".py",
   "mimetype": "text/x-python",
   "name": "python",
   "nbconvert_exporter": "python",
   "pygments_lexer": "ipython3",
   "version": "3.7.1"
  }
 },
 "nbformat": 4,
 "nbformat_minor": 2
}
